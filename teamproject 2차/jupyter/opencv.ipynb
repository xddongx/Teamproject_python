{
 "cells": [
  {
   "cell_type": "code",
   "execution_count": 1,
   "metadata": {},
   "outputs": [],
   "source": [
    "import cv2\n",
    "import face_recognition\n",
    "import pickle\n",
    "import time\n",
    "\n",
    "# image_file = '2.jpg'\n",
    "image_file = 'marathon_01.jpg'\n",
    "encoding_file = 'encodings_face_rgb.pickle'\n",
    "unknown_name = 'Unknown'\n",
    "\n",
    "# cnn 또는 hog입니다. CNN 방법이 더 정확하지만 느립니다. HOG는 빠르지 만 정확도는 떨어집니다.\n",
    "model_method = 'cnn'\n",
    "\n",
    "\n"
   ]
  },
  {
   "cell_type": "code",
   "execution_count": 8,
   "metadata": {},
   "outputs": [],
   "source": [
    "def detectAndDisplay(image):\n",
    "    start_time = time.time()\n",
    "    rgb = cv2.cvtColor(image, cv2.COLOR_BGR2RGB) # 색상을 변경\n",
    "\n",
    "    # 해당 경계 상자의(x, y) 좌표를 감지 입력 이미지의 각 얼굴에 얼굴 삽입을 계산합니다. 각 얼굴마다\n",
    "    boxes = face_recognition.face_locations(rgb,model=model_method)\n",
    "    encodings = face_recognition.face_encodings(rgb, boxes)\n",
    "\n",
    "    # 감지 된 각 얼굴의 이름 목록을 초기화합니다.\n",
    "    names = []\n",
    "\n",
    "    # 얼굴 임베딩을 반복\n",
    "    for encoding in encodings:\n",
    "\n",
    "        # 입력 이미지의 각 얼굴을 알려진 인코딩과 일치 시키십시오.\n",
    "        matches = face_recognition.compare_faces(data[\"encodings\"],encoding)\n",
    "        name = unknown_name\n",
    "\n",
    "        # 우리가 일치하는 것을 발견했는지 확인\n",
    "        if True in matches:\n",
    "\n",
    "            # 일치하는 모든 얼굴의 색인을 찾은 다음 각 얼굴의 총 횟수를 세는 사전 일치했다\n",
    "            matchedIdxs = [i for (i, b) in enumerate(matches) if b]\n",
    "            counts = {}\n",
    "\n",
    "            # 일치하는 인덱스를 반복하고에 대한 카운트를 유지 인식 된 각 얼굴\n",
    "            for i in matchedIdxs:\n",
    "                name = data[\"names\"][i]\n",
    "                counts[name] = counts.get(name, 0) + 1\n",
    "\n",
    "            # 가장 많은 수의 인식 된 얼굴을 결정 투표(참고: 파이썬을 유망하지 않을 경우 사전에서 첫 번째 항목을 선택하십시오.)\n",
    "            name = max(counts, key=counts.get)\n",
    "        \n",
    "        # 이름 목록을 업데이트\n",
    "        names.append(name)\n",
    "\n",
    "    #\n",
    "    # 인식 된 얼굴을 반복\n",
    "    for ((top, right, bottom, left), name) in zip(boxes, names):\n",
    "        # 이미지에 예측 된 얼굴 이름을 그립니다.\n",
    "        y = top - 15 if top - 15 > 15 else top + 15\n",
    "        color = (0, 255, 0)\n",
    "        line = 2\n",
    "        if(name == unknown_name):\n",
    "            color = (0, 0, 255)\n",
    "            line = 1\n",
    "            name = ''\n",
    "            \n",
    "        cv2.rectangle(image, (left, top), (right, bottom), color, line)\n",
    "        y = top - 15 if top - 15 > 15 else top + 15\n",
    "        cv2.putText(image, name, (left, y), cv2.FONT_HERSHEY_SIMPLEX, 0.75, color, line)\n",
    "\n",
    "    end_time = time.time()\n",
    "    process_time = end_time - start_time\n",
    "    print(\"=== A frame took {:.3f} seconds\".format(process_time))\n",
    "    # show the output image\n",
    "    cv2.imshow(\"Recognition\", image)\n",
    "    "
   ]
  },
  {
   "cell_type": "code",
   "execution_count": 9,
   "metadata": {},
   "outputs": [
    {
     "ename": "AttributeError",
     "evalue": "'numpy.ndarray' object has no attribute 'np'",
     "output_type": "error",
     "traceback": [
      "\u001b[1;31m---------------------------------------------------------------------------\u001b[0m",
      "\u001b[1;31mAttributeError\u001b[0m                            Traceback (most recent call last)",
      "\u001b[1;32m<ipython-input-9-a71e22449c95>\u001b[0m in \u001b[0;36m<module>\u001b[1;34m\u001b[0m\n\u001b[0;32m      5\u001b[0m \u001b[0mimage\u001b[0m \u001b[1;33m=\u001b[0m \u001b[0mcv2\u001b[0m\u001b[1;33m.\u001b[0m\u001b[0mimread\u001b[0m\u001b[1;33m(\u001b[0m\u001b[0mimage_file\u001b[0m\u001b[1;33m)\u001b[0m\u001b[1;33m\u001b[0m\u001b[1;33m\u001b[0m\u001b[0m\n\u001b[0;32m      6\u001b[0m \u001b[1;33m\u001b[0m\u001b[0m\n\u001b[1;32m----> 7\u001b[1;33m \u001b[0mdetectAndDisplay\u001b[0m\u001b[1;33m(\u001b[0m\u001b[0mimage\u001b[0m\u001b[1;33m)\u001b[0m\u001b[1;33m\u001b[0m\u001b[1;33m\u001b[0m\u001b[0m\n\u001b[0m\u001b[0;32m      8\u001b[0m \u001b[1;33m\u001b[0m\u001b[0m\n\u001b[0;32m      9\u001b[0m \u001b[0mcv2\u001b[0m\u001b[1;33m.\u001b[0m\u001b[0mwaitKey\u001b[0m\u001b[1;33m(\u001b[0m\u001b[1;36m0\u001b[0m\u001b[1;33m)\u001b[0m\u001b[1;33m\u001b[0m\u001b[1;33m\u001b[0m\u001b[0m\n",
      "\u001b[1;32m<ipython-input-8-9b9e0bbafd73>\u001b[0m in \u001b[0;36mdetectAndDisplay\u001b[1;34m(image)\u001b[0m\n\u001b[0;32m      2\u001b[0m     \u001b[0mstart_time\u001b[0m \u001b[1;33m=\u001b[0m \u001b[0mtime\u001b[0m\u001b[1;33m.\u001b[0m\u001b[0mtime\u001b[0m\u001b[1;33m(\u001b[0m\u001b[1;33m)\u001b[0m\u001b[1;33m\u001b[0m\u001b[1;33m\u001b[0m\u001b[0m\n\u001b[0;32m      3\u001b[0m     \u001b[0mrgb\u001b[0m \u001b[1;33m=\u001b[0m \u001b[0mcv2\u001b[0m\u001b[1;33m.\u001b[0m\u001b[0mcvtColor\u001b[0m\u001b[1;33m(\u001b[0m\u001b[0mimage\u001b[0m\u001b[1;33m,\u001b[0m \u001b[0mcv2\u001b[0m\u001b[1;33m.\u001b[0m\u001b[0mCOLOR_BGR2RGB\u001b[0m\u001b[1;33m)\u001b[0m \u001b[1;31m# 색상을 변경\u001b[0m\u001b[1;33m\u001b[0m\u001b[1;33m\u001b[0m\u001b[0m\n\u001b[1;32m----> 4\u001b[1;33m     \u001b[0mprint\u001b[0m\u001b[1;33m(\u001b[0m\u001b[0mrgb\u001b[0m\u001b[1;33m.\u001b[0m\u001b[0mnp\u001b[0m\u001b[1;33m.\u001b[0m\u001b[0mshpaes\u001b[0m\u001b[1;33m)\u001b[0m\u001b[1;33m\u001b[0m\u001b[1;33m\u001b[0m\u001b[0m\n\u001b[0m\u001b[0;32m      5\u001b[0m \u001b[1;33m\u001b[0m\u001b[0m\n\u001b[0;32m      6\u001b[0m     \u001b[1;31m# 해당 경계 상자의(x, y) 좌표를 감지 입력 이미지의 각 얼굴에 얼굴 삽입을 계산합니다. 각 얼굴마다\u001b[0m\u001b[1;33m\u001b[0m\u001b[1;33m\u001b[0m\u001b[1;33m\u001b[0m\u001b[0m\n",
      "\u001b[1;31mAttributeError\u001b[0m: 'numpy.ndarray' object has no attribute 'np'"
     ]
    }
   ],
   "source": [
    "# 알려진면과 임베딩을로드\n",
    "data = pickle.loads(open(encoding_file, \"rb\").read())\n",
    "\n",
    "# 입력 이미지를로드\n",
    "image = cv2.imread(image_file)\n",
    "\n",
    "detectAndDisplay(image)\n",
    "\n",
    "cv2.waitKey(0)\n",
    "cv2.destroyAllWindows()"
   ]
  },
  {
   "cell_type": "code",
   "execution_count": null,
   "metadata": {
    "scrolled": true
   },
   "outputs": [],
   "source": [
    "image.shape"
   ]
  },
  {
   "cell_type": "code",
   "execution_count": null,
   "metadata": {},
   "outputs": [],
   "source": [
    "img = cv2.resize(image, (40,40))\n",
    "img.shape"
   ]
  },
  {
   "cell_type": "code",
   "execution_count": null,
   "metadata": {},
   "outputs": [],
   "source": []
  },
  {
   "cell_type": "code",
   "execution_count": null,
   "metadata": {},
   "outputs": [],
   "source": []
  },
  {
   "cell_type": "code",
   "execution_count": null,
   "metadata": {},
   "outputs": [],
   "source": []
  },
  {
   "cell_type": "code",
   "execution_count": null,
   "metadata": {},
   "outputs": [],
   "source": []
  }
 ],
 "metadata": {
  "kernelspec": {
   "display_name": "Python 3",
   "language": "python",
   "name": "python3"
  },
  "language_info": {
   "codemirror_mode": {
    "name": "ipython",
    "version": 3
   },
   "file_extension": ".py",
   "mimetype": "text/x-python",
   "name": "python",
   "nbconvert_exporter": "python",
   "pygments_lexer": "ipython3",
   "version": "3.6.9"
  }
 },
 "nbformat": 4,
 "nbformat_minor": 4
}
